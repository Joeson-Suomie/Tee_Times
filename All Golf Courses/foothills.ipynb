{
 "cells": [
  {
   "cell_type": "code",
   "execution_count": 1,
   "id": "f8bf782b-a7cb-401b-b2d2-a9848321a49a",
   "metadata": {},
   "outputs": [
    {
     "name": "stdout",
     "output_type": "stream",
     "text": [
      "Foothills data has been saved and updated in the SQLite database 'GolfteeTimes_database.db'.\n"
     ]
    }
   ],
   "source": [
    "import requests\n",
    "import json\n",
    "from datetime import datetime\n",
    "import sqlite3\n",
    "import import_ipynb\n",
    "import utils \n",
    "\n",
    "\n",
    "# Define the URL for the API and headers for the request\n",
    "api_url = \"https://api.membersports.com/api/v1/golfclubs/onlineBookingTeeTimes\"\n",
    "headers = {\n",
    "    \"Accept\": \"application/json\",\n",
    "    \"Content-Type\": \"application/json; charset=UTF-8\",\n",
    "    \"x-api-key\": \"A9814038-9E19-4683-B171-5A06B39147FC\",\n",
    "}\n",
    "\n",
    "# Convert minutes from midnight to standard time format\n",
    "def convert_minutes_to_time(minutes):\n",
    "    hours = minutes // 60\n",
    "    mins = minutes % 60\n",
    "    period = \"AM\" if hours < 12 else \"PM\"\n",
    "    hours = hours % 12\n",
    "    hours = 12 if hours == 0 else hours\n",
    "    return f\"{hours}:{mins:02d} {period}\"\n",
    "\n",
    "# Fetch data from the API\n",
    "def fetch_tee_times(api_data):\n",
    "    response = requests.post(api_url, headers=headers, json=api_data)\n",
    "    if response.status_code == 200:\n",
    "        return response.json()\n",
    "    else:\n",
    "        print(f\"Failed to fetch data. Status Code: {response.status_code}, Response: {response.text}\")\n",
    "        return None\n",
    "\n",
    "# Format tee times from API response data\n",
    "def format_tee_times(api_data, api_response_data):\n",
    "    tee_time_data = []\n",
    "    for entry in api_response_data:\n",
    "        for item in entry[\"items\"]:\n",
    "            tee_time = convert_minutes_to_time(int(item['teeTime']))\n",
    "            tee_time_data.append((\n",
    "                api_data['date'], item['golfCourseId'], item['name'], tee_time, item['minimumNumberOfPlayers'], item['golfCourseNumberOfHoles'], item['price'],\n",
    "            ))\n",
    "    return tee_time_data\n",
    "\n",
    "# Main execution\n",
    "def get_foothills_tee_time():\n",
    "    golfClubGroupIds = [1, 3]\n",
    "    all_tee_time_data = []\n",
    "    date = datetime.today().strftime('%Y-%m-%d')\n",
    "    \n",
    "    for golfClubGroupId in golfClubGroupIds:\n",
    "        api_data = {\n",
    "            \"configurationTypeId\": 0,\n",
    "            \"date\": date,\n",
    "            \"golfClubGroupId\": golfClubGroupId,\n",
    "            \"groupSheetTypeId\": 0\n",
    "        }\n",
    "        \n",
    "        try:\n",
    "            api_response_data = fetch_tee_times(api_data)\n",
    "            if api_response_data:\n",
    "                tee_time_data = format_tee_times(api_data, api_response_data)\n",
    "                all_tee_time_data.extend(tee_time_data)\n",
    "        except Exception as e:\n",
    "            print(f\"Error fetching tee times: {e}\")\n",
    "    \n",
    "    if all_tee_time_data:\n",
    "        utils.update_database(all_tee_time_data)\n",
    "        print(f\"Foothills data has been saved and updated in the SQLite database 'GolfteeTimes_database.db'.\")\n",
    "    else:\n",
    "        print(\"No tee time data fetched from Foothills.\")\n",
    "    \n",
    "    return all_tee_time_data  # Return the data for use in utils.main()\n",
    "\n",
    "if __name__ == \"__main__\":\n",
    "    utils.initialize_database()\n",
    "    get_foothills_tee_time()"
   ]
  },
  {
   "cell_type": "code",
   "execution_count": null,
   "id": "c919ece7-09d7-491c-a233-4cf2c9cf659f",
   "metadata": {},
   "outputs": [],
   "source": []
  }
 ],
 "metadata": {
  "kernelspec": {
   "display_name": "Python 3 (ipykernel)",
   "language": "python",
   "name": "python3"
  },
  "language_info": {
   "codemirror_mode": {
    "name": "ipython",
    "version": 3
   },
   "file_extension": ".py",
   "mimetype": "text/x-python",
   "name": "python",
   "nbconvert_exporter": "python",
   "pygments_lexer": "ipython3",
   "version": "3.11.7"
  }
 },
 "nbformat": 4,
 "nbformat_minor": 5
}
