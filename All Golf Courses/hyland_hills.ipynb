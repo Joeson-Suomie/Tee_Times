{
 "cells": [
  {
   "cell_type": "code",
   "execution_count": 3,
   "id": "90412fb9",
   "metadata": {},
   "outputs": [
    {
     "name": "stdout",
     "output_type": "stream",
     "text": [
      "No tee time data scraped from Hyland Hills.\n"
     ]
    }
   ],
   "source": [
    "import time\n",
    "import sqlite3\n",
    "from selenium import webdriver\n",
    "from selenium.webdriver.common.by import By\n",
    "from datetime import datetime\n",
    "import import_ipynb\n",
    "import utils \n",
    "\n",
    "# Scrape data using Selenium\n",
    "def scrape_tee_times(url, course_ids):\n",
    "    driver = webdriver.Chrome()\n",
    "    driver.get(url)\n",
    "    time.sleep(5)\n",
    "    \n",
    "    date_element = driver.find_element(By.CSS_SELECTOR, 'div[data-testid=\"teetimes-header-date\"] button')\n",
    "    date_text = date_element.text.strip()\n",
    "\n",
    "    tee_times = driver.find_elements(By.CSS_SELECTOR, 'div.MuiCardContent-root')\n",
    "    scraped_data = []\n",
    "\n",
    "    for index, tee_time in enumerate(tee_times):\n",
    "        try:\n",
    "            course_id = course_ids[index % len(course_ids)]\n",
    "            course_name_element = tee_time.find_element(By.CSS_SELECTOR, 'p[data-testid=\"teetimes-tile-course-name\"]').text\n",
    "            time_element = tee_time.find_element(By.CSS_SELECTOR, 'p[data-testid=\"teetimes-tile-time\"]').text\n",
    "            players_text = tee_time.find_element(By.CSS_SELECTOR, 'p[data-testid=\"teetimes-tile-available-players\"]').text\n",
    "            players_number = \"\".join(filter(str.isdigit, players_text))\n",
    "            holes_element = tee_time.find_element(By.CSS_SELECTOR, 'p[data-testid=\"teetimes-tile-hole-verbiage\"]').text\n",
    "            price_elements = tee_time.find_elements(By.CSS_SELECTOR, 'p.css-1m88q2v')\n",
    "            prices = \", \".join([price.text for price in price_elements])\n",
    "\n",
    "            scraped_data.append((date_text, course_id, course_name_element, time_element, players_number, holes_element, prices))\n",
    "        except Exception as e:\n",
    "            print(f\"Error extracting data for a tee time: {e}\")\n",
    "\n",
    "    driver.quit()\n",
    "    return scraped_data\n",
    "\n",
    "# Main execution\n",
    "def get_hyland_hills_tee_time():\n",
    "    scrape_url = f\"https://hyland-hills-park-recreation-district.book.teeitup.com/?course=9201,9202,9203&date={datetime.now().strftime('%Y-%m-%d')}&max=9999\"\n",
    "    course_ids = [9201, 9202, 9203]\n",
    "    scraped_data = scrape_tee_times(scrape_url, course_ids)\n",
    "    \n",
    "    if scraped_data:\n",
    "        utils.update_database(scraped_data, table_name=\"TeeTimes\")\n",
    "        print(\"Hyland Hills data has been updated in the SQLite database 'GolfteeTimes_database.db'.\")\n",
    "    else:\n",
    "        print(\"No tee time data scraped from Hyland Hills.\")\n",
    "    \n",
    "    return scraped_data  # Return the data for use in utils.main()\n",
    "\n",
    "if __name__ == \"__main__\":\n",
    "    utils.initialize_database()\n",
    "    get_hyland_hills_tee_time()\n"
   ]
  },
  {
   "cell_type": "code",
   "execution_count": null,
   "id": "87374796-e565-4ee4-b754-31ad5ee1fcc1",
   "metadata": {},
   "outputs": [],
   "source": []
  },
  {
   "cell_type": "code",
   "execution_count": null,
   "id": "fc417b10-b76f-40fe-828d-cfa45b8b4047",
   "metadata": {},
   "outputs": [],
   "source": [
    "\n"
   ]
  },
  {
   "cell_type": "code",
   "execution_count": null,
   "id": "ad801ef4-b43c-4505-b6e4-cf90d77cbc1a",
   "metadata": {},
   "outputs": [],
   "source": []
  }
 ],
 "metadata": {
  "kernelspec": {
   "display_name": "Python 3 (ipykernel)",
   "language": "python",
   "name": "python3"
  },
  "language_info": {
   "codemirror_mode": {
    "name": "ipython",
    "version": 3
   },
   "file_extension": ".py",
   "mimetype": "text/x-python",
   "name": "python",
   "nbconvert_exporter": "python",
   "pygments_lexer": "ipython3",
   "version": "3.11.7"
  }
 },
 "nbformat": 4,
 "nbformat_minor": 5
}
