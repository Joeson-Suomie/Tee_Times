{
 "cells": [
  {
   "cell_type": "code",
   "execution_count": 2,
   "id": "bc2fb3bb",
   "metadata": {},
   "outputs": [
    {
     "name": "stdout",
     "output_type": "stream",
     "text": [
      "Green Valley Ranch data updated in GolfteeTimes_database.db\n"
     ]
    }
   ],
   "source": [
    "import subprocess\n",
    "import sqlite3\n",
    "import json\n",
    "from datetime import datetime\n",
    "import import_ipynb\n",
    "import utils \n",
    "\n",
    "def fetch_tee_times():\n",
    "    \"\"\"Fetches tee time data from the API using curl.\"\"\"\n",
    "    course_date = datetime.now().strftime('%Y-%m-%d')\n",
    "    curl_command = [\n",
    "        \"curl\",\n",
    "        \"--ssl-no-revoke\",\n",
    "        f\"https://greenvalleyranch.cps.golf/onlineres/onlineapi/api/v1/onlinereservation/TeeSheetNotes?courseIds=1&courseDate={course_date}\",\n",
    "        \"-H\", \"accept: application/json, text/plain, */*\",\n",
    "        \"-H\", \"accept-language: en-GB,en-US;q=0.9,en;q=0.8\",\n",
    "        \"-H\", \"cache-control: no-cache, no-store, must-revalidate\",\n",
    "        \"-H\", \"client-id: onlineresweb\",\n",
    "        \"-H\", \"cookie: V4COOKIE=1736954495.412.720.99506|beafa6f5988e5b196bba96a1f5b9227f\",\n",
    "        \"-H\", \"expires: Sat, 01 Jan 2000 00:00:00 GMT\",\n",
    "        \"-H\", \"if-modified-since: 0\",\n",
    "        \"-H\", \"pragma: no-cache\",\n",
    "        \"-H\", \"priority: u=1, i\",\n",
    "        \"-H\", \"referer: https://greenvalleyranch.cps.golf/onlineresweb/search-teetime?TeeOffTimeMin=0&TeeOffTimeMax=23\",\n",
    "        \"-H\", \"sec-ch-ua: \\\"Google Chrome\\\";v=\\\"131\\\", \\\"Chromium\\\";v=\\\"131\\\", \\\"Not_A Brand\\\";v=\\\"24\\\"\",\n",
    "        \"-H\", \"sec-ch-ua-mobile: ?0\",\n",
    "        \"-H\", \"sec-ch-ua-platform: \\\"Windows\\\"\",\n",
    "        \"-H\", \"sec-fetch-dest: empty\",\n",
    "        \"-H\", \"sec-fetch-mode: cors\",\n",
    "        \"-H\", \"sec-fetch-site: same-origin\",\n",
    "        \"-H\", \"user-agent: Mozilla/5.0 (Windows NT 10.0; Win64; x64) AppleWebKit/537.36 (KHTML, like Gecko) Chrome/131.0.0.0 Safari/537.36\",\n",
    "        \"-H\", \"x-apikey: 8ea2914e-cac2-48a7-a3e5-e0f41350bf3a\",\n",
    "        \"-H\", \"x-componentid: 1\",\n",
    "        \"-H\", \"x-ismobile: false\",\n",
    "        \"-H\", \"x-moduleid: 7\",\n",
    "        \"-H\", \"x-productid: 1\",\n",
    "        \"-H\", \"x-requestid: fd5193a9-8e6e-3d5b-6121-869eb3eeb286\",\n",
    "        \"-H\", \"x-siteid: 2\",\n",
    "        \"-H\", \"x-terminalid: 3\",\n",
    "        \"-H\", \"x-timezone-offset: -330\",\n",
    "        \"-H\", \"x-timezoneid: Asia/Calcutta\",\n",
    "        \"-H\", \"x-websiteid: e6b92812-d6c4-4f86-7eea-08d9fadf154d\"\n",
    "    ]\n",
    "    result = subprocess.run(curl_command, capture_output=True, text=True)\n",
    "    return json.loads(result.stdout) if result.stdout else []\n",
    "\n",
    "def parse_tee_time_data(data):\n",
    "    \"\"\"Parses raw JSON tee time data into a structured format.\"\"\"\n",
    "    parsed_data = []\n",
    "    for item in data:\n",
    "        parsed_data.append((\n",
    "            item.get('courseDate', ''),\n",
    "            item.get('courseId', 0),\n",
    "            item.get('courseName', ''),\n",
    "            item.get('startTime', ''),\n",
    "            int(item.get('playersDisplay', '0').split()[0]) if item.get('playersDisplay') else 0,\n",
    "            item.get('holes', 0),\n",
    "            float(item.get('shItemPrices', [{}])[0].get('price', 0))\n",
    "        ))\n",
    "    return parsed_data\n",
    "\n",
    "def get_greenvalleyrach_tee_time():\n",
    "    \"\"\"Main function to fetch, parse, and update tee time data.\"\"\"\n",
    "    raw_data = fetch_tee_times()\n",
    "    if raw_data:\n",
    "        parsed_data = parse_tee_time_data(raw_data)\n",
    "        utils.update_database(parsed_data, table_name=\"TeeTimes\")\n",
    "        print(\"Green Valley Ranch data updated in GolfteeTimes_database.db\")\n",
    "    else:\n",
    "        print(\"No data fetched.\")\n",
    "    \n",
    "    return parsed_data  # Return the data for use in utils.main()\n",
    "\n",
    "if __name__ == \"__main__\":\n",
    "    utils.initialize_database()\n",
    "    get_greenvalleyrach_tee_time()\n"
   ]
  },
  {
   "cell_type": "code",
   "execution_count": null,
   "id": "2565489d-e152-4db1-99ae-0c784b7de950",
   "metadata": {},
   "outputs": [],
   "source": []
  },
  {
   "cell_type": "code",
   "execution_count": null,
   "id": "844edb12-5007-436b-8f37-ba650d84ea58",
   "metadata": {},
   "outputs": [],
   "source": []
  }
 ],
 "metadata": {
  "kernelspec": {
   "display_name": "Python 3 (ipykernel)",
   "language": "python",
   "name": "python3"
  },
  "language_info": {
   "codemirror_mode": {
    "name": "ipython",
    "version": 3
   },
   "file_extension": ".py",
   "mimetype": "text/x-python",
   "name": "python",
   "nbconvert_exporter": "python",
   "pygments_lexer": "ipython3",
   "version": "3.11.7"
  }
 },
 "nbformat": 4,
 "nbformat_minor": 5
}
